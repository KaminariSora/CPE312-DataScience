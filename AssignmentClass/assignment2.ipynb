{
 "cells": [
  {
   "cell_type": "markdown",
   "metadata": {},
   "source": [
    "# SWU-CPE312: Introduction to Data Science \n",
    "\n",
    "\n",
    "### Assignment#2: Programming practice assignment\n",
    "\n",
    "### Student Name: Nonthacha Huanchitt <br>\n",
    "\n",
    "# Assignment Instructions\n",
    "\n",
    "- Your solution should go between the BEGIN SOLUTION and END SOlUTION. \n",
    "\n",
    "- Submit the notebook or html through Microsoft Teams.\n",
    "\n",
    "There are in total 19 questions. Each carries one  (1) point. Succesful submission of the assignment will earn you a bonus one point making it total of 20 points. "
   ]
  },
  {
   "cell_type": "markdown",
   "metadata": {},
   "source": [
    "### Use a built-in function to find the data type of x"
   ]
  },
  {
   "cell_type": "code",
   "execution_count": 1,
   "metadata": {},
   "outputs": [
    {
     "name": "stdout",
     "output_type": "stream",
     "text": [
      "<class 'int'>\n"
     ]
    }
   ],
   "source": [
    "### BEGIN SOLUTION\n",
    "q1  = 10\n",
    "### END SOLUTION\n",
    "print(type(q1))"
   ]
  },
  {
   "cell_type": "markdown",
   "metadata": {},
   "source": [
    "### Use a built-in function to check whether y is an integer."
   ]
  },
  {
   "cell_type": "code",
   "execution_count": 2,
   "metadata": {},
   "outputs": [
    {
     "name": "stdout",
     "output_type": "stream",
     "text": [
      "<class 'int'>\n"
     ]
    }
   ],
   "source": [
    "### BEGIN SOLUTION\n",
    "q2  = 10\n",
    "\n",
    "### END SOLUTION\n",
    "print(type(q2))"
   ]
  },
  {
   "cell_type": "markdown",
   "metadata": {},
   "source": [
    "### Convert the value of x into integer type"
   ]
  },
  {
   "cell_type": "code",
   "execution_count": 3,
   "metadata": {},
   "outputs": [
    {
     "name": "stdout",
     "output_type": "stream",
     "text": [
      "<class 'int'> 10\n"
     ]
    }
   ],
   "source": [
    "### BEGIN SOLUTION\n",
    "q3 = int(q1)\n",
    "\n",
    "### END SOLUTION\n",
    "print(type(q3), q3)"
   ]
  },
  {
   "cell_type": "markdown",
   "metadata": {},
   "source": [
    "### Raise x to the power of y"
   ]
  },
  {
   "cell_type": "code",
   "execution_count": 4,
   "metadata": {},
   "outputs": [
    {
     "name": "stdout",
     "output_type": "stream",
     "text": [
      "10000000000\n"
     ]
    }
   ],
   "source": [
    "### BEGIN SOLUTION\n",
    "q4 = q1 ** q2\n",
    "\n",
    "### END SOLUTION\n",
    "print(q4)"
   ]
  },
  {
   "cell_type": "markdown",
   "metadata": {},
   "source": [
    "### Print a float to two decimal places without rounding"
   ]
  },
  {
   "cell_type": "code",
   "execution_count": 5,
   "metadata": {},
   "outputs": [
    {
     "name": "stdout",
     "output_type": "stream",
     "text": [
      "3.14159\n"
     ]
    }
   ],
   "source": [
    "number = 3.14159\n",
    "#Hint: The answer should be 3.14\n",
    "\n",
    "### BEGIN SOLUTION\n",
    "q5 = '{}'.format(number)\n",
    "### END SOLUTION\n",
    "print(q5)"
   ]
  },
  {
   "cell_type": "markdown",
   "metadata": {},
   "source": [
    "### Change the case of string variable  into uppercase (Change sentence into uppercase)"
   ]
  },
  {
   "cell_type": "code",
   "execution_count": 6,
   "metadata": {},
   "outputs": [
    {
     "name": "stdout",
     "output_type": "stream",
     "text": [
      "THIS IS A FIRST ASSIGNMENT\n"
     ]
    }
   ],
   "source": [
    "sentence = 'This is a first assignment'\n",
    "\n",
    "### BEGIN SOLUTION\n",
    "q6_sentence = sentence.upper()\n",
    "\n",
    "### END SOLUTION\n",
    "print(q6_sentence)"
   ]
  },
  {
   "cell_type": "markdown",
   "metadata": {},
   "source": [
    "### Replace the word 'FIRST' by 'SECOND' in q6_sentence with uppercase"
   ]
  },
  {
   "cell_type": "code",
   "execution_count": 7,
   "metadata": {},
   "outputs": [
    {
     "name": "stdout",
     "output_type": "stream",
     "text": [
      "This is a second assignment\n"
     ]
    }
   ],
   "source": [
    "\n",
    "### BEGIN SOLUTION\n",
    "q7_sentence = sentence.replace('first', 'second')\n",
    "### END SOLUTION\n",
    "print(q7_sentence)"
   ]
  },
  {
   "cell_type": "markdown",
   "metadata": {},
   "source": [
    "### Split all words inside the q7_sentence into a list of words"
   ]
  },
  {
   "cell_type": "code",
   "execution_count": 8,
   "metadata": {},
   "outputs": [
    {
     "name": "stdout",
     "output_type": "stream",
     "text": [
      "['This', 'is', 'a', 'second', 'assignment']\n"
     ]
    }
   ],
   "source": [
    "#HINT: Your answer should look like ['THIS' , 'IS', 'A', 'SECOND', 'ASSIGNMENT']\n",
    "### BEGIN SOLUTION\n",
    "q8_sentence = \"This is a second assignment\"\n",
    "q8 = q8_sentence.split()\n",
    "\n",
    "### END SOLUTION\n",
    "print(q8)"
   ]
  },
  {
   "cell_type": "markdown",
   "metadata": {},
   "source": [
    "### Join the words in the list sentence (q8_sentence) into a single string"
   ]
  },
  {
   "cell_type": "code",
   "execution_count": 9,
   "metadata": {},
   "outputs": [
    {
     "name": "stdout",
     "output_type": "stream",
     "text": [
      "This is a second assignment\n"
     ]
    }
   ],
   "source": [
    "# The cell should print out 'THIS IS A SECOND ASSIGNMENT'\n",
    "\n",
    "### BEGIN SOLUTION\n",
    "# HINT: use join method\n",
    "q9_sentence  = ' '.join(q8)\n",
    "### END SOLUTION\n",
    "\n",
    "print(q9_sentence)"
   ]
  },
  {
   "cell_type": "markdown",
   "metadata": {},
   "source": [
    "### Convert a tuple into list"
   ]
  },
  {
   "cell_type": "code",
   "execution_count": 10,
   "metadata": {},
   "outputs": [
    {
     "name": "stdout",
     "output_type": "stream",
     "text": [
      "['first', 'second', 'third']\n"
     ]
    }
   ],
   "source": [
    "\n",
    "### BEGIN SOLUTION\n",
    "rank = ('first', 'second', 'third')\n",
    "q10_list_rank = list(rank)\n",
    "### END SOLUTION\n",
    "print(q10_list_rank)"
   ]
  },
  {
   "cell_type": "markdown",
   "metadata": {},
   "source": [
    "### Append a new value to a list. Append  a string 'fourth' to the list q11_rank."
   ]
  },
  {
   "cell_type": "code",
   "execution_count": 11,
   "metadata": {},
   "outputs": [
    {
     "name": "stdout",
     "output_type": "stream",
     "text": [
      "['first', 'second', 'third', 'forth']\n"
     ]
    }
   ],
   "source": [
    "q11_rank = ['first', 'second', 'third']\n",
    "\n",
    "### BEGIN SOLUTION\n",
    "q11_rank.append('forth')\n",
    "# Hint: use append method\n",
    "\n",
    "### END SOLUTION\n",
    "print(q11_rank)"
   ]
  },
  {
   "cell_type": "markdown",
   "metadata": {},
   "source": [
    "### Combine two lists into one. Extend the value of q12_rank by values of more_ranks list."
   ]
  },
  {
   "cell_type": "code",
   "execution_count": 12,
   "metadata": {},
   "outputs": [
    {
     "name": "stdout",
     "output_type": "stream",
     "text": [
      "['first', 'second', 'third', 'forth', 'fifth', 'sixth', 'seventh']\n"
     ]
    }
   ],
   "source": [
    "### BEGIN SOLUTION\n",
    "q12_rank = q11_rank\n",
    "more_ranks = ['fifth', 'sixth', 'seventh']\n",
    "\n",
    "# Hint: use extend method\n",
    "q12_rank.extend(more_ranks)\n",
    "### END SOLUTION\n",
    "print(q12_rank)"
   ]
  },
  {
   "cell_type": "markdown",
   "metadata": {},
   "source": [
    "### Faker is a Python package that generates fake data for you.  We are going to generate some random names and addreess using the faker library in this exercise.\n",
    "\n",
    "Install the faker library from your terminal or here using `!pip install faker`\n",
    "\n",
    "Notice that the name and addresses are randomly generated. So every time you run the cellbelow, you will get different names and addresses\n"
   ]
  },
  {
   "cell_type": "code",
   "execution_count": 13,
   "metadata": {},
   "outputs": [
    {
     "name": "stdout",
     "output_type": "stream",
     "text": [
      "Mark Johnson\n",
      "7685 Bentley Via\n",
      "Soniaside, DC 22998\n"
     ]
    }
   ],
   "source": [
    "#!pip install faker\n",
    "import faker \n",
    "fake = faker.Faker()\n",
    "print (fake.name())\n",
    "print (fake.address())"
   ]
  },
  {
   "cell_type": "markdown",
   "metadata": {},
   "source": [
    "### Create an empty dictionary named person and add 'name' and 'address' keys with their values as empty list"
   ]
  },
  {
   "cell_type": "code",
   "execution_count": 14,
   "metadata": {},
   "outputs": [
    {
     "name": "stdout",
     "output_type": "stream",
     "text": [
      "True\n"
     ]
    }
   ],
   "source": [
    "### BEGIN SOLUTION\n",
    "person = {}\n",
    "person['name'] = []\n",
    "person['address'] = []\n",
    "\n",
    "### END SOLUTION\n",
    "q12 = isinstance(person['name'], list) & isinstance(person['address'], list)\n",
    "print(q12)"
   ]
  },
  {
   "cell_type": "markdown",
   "metadata": {},
   "source": [
    "### Append five random names from fake library to the list values of person['name']. Append five random names from fake library to the list values of person['address']"
   ]
  },
  {
   "cell_type": "code",
   "execution_count": 15,
   "metadata": {},
   "outputs": [
    {
     "name": "stdout",
     "output_type": "stream",
     "text": [
      "(5, 5)\n"
     ]
    }
   ],
   "source": [
    "for i in range(5):\n",
    "    ### BEGIN SOLUTION\n",
    "    person['name'].append(fake.name())\n",
    "    person['address'].append(fake.address())\n",
    "    ### END SOLUTION\n",
    "q13 = len(person['name']), len(person['address'])\n",
    "print(q13)"
   ]
  },
  {
   "cell_type": "markdown",
   "metadata": {},
   "source": [
    "### Write a function that truncates a floating point number to three decimal places."
   ]
  },
  {
   "cell_type": "code",
   "execution_count": 16,
   "metadata": {},
   "outputs": [
    {
     "name": "stdout",
     "output_type": "stream",
     "text": [
      "3.141\n"
     ]
    }
   ],
   "source": [
    "\n",
    "# if the input to the function is 3.14159, it should return 3.141\n",
    "\n",
    "### BEGIN SOLUTION\n",
    "\n",
    "def truncate_float(number):\n",
    "    x = int(number * 1000) / 1000\n",
    "    return x\n",
    "\n",
    "q14 = truncate_float(3.14159)\n",
    "### END SOLUTION\n",
    "\n",
    "print(q14)"
   ]
  },
  {
   "cell_type": "markdown",
   "metadata": {},
   "source": [
    "### Write a function that takes a string as an argument and returns the upercase version of the input."
   ]
  },
  {
   "cell_type": "code",
   "execution_count": 17,
   "metadata": {},
   "outputs": [
    {
     "name": "stdout",
     "output_type": "stream",
     "text": [
      "True\n"
     ]
    }
   ],
   "source": [
    "### BEGIN SOLUTION\n",
    "def func_uppercase(x):\n",
    "    up = x.upper()\n",
    "    return up\n",
    "### END SOlUTION\n",
    "\n",
    "\n",
    "q15 =  'FIRST' == func_uppercase('first')\n",
    "print(q15)"
   ]
  },
  {
   "cell_type": "markdown",
   "metadata": {},
   "source": [
    "### Write a lambda (anonymous) funtion that returns sum of two numbers."
   ]
  },
  {
   "cell_type": "code",
   "execution_count": 18,
   "metadata": {},
   "outputs": [
    {
     "name": "stdout",
     "output_type": "stream",
     "text": [
      "30\n"
     ]
    }
   ],
   "source": [
    "### BEGIN SOLUTION\n",
    "q16 = lambda a, b: a + b\n",
    "### END SOLUTION\n",
    "print(q16 (10,20))"
   ]
  },
  {
   "cell_type": "markdown",
   "metadata": {},
   "source": [
    "### Use list comprehension to convert strings in a list into uppercase"
   ]
  },
  {
   "cell_type": "code",
   "execution_count": 19,
   "metadata": {},
   "outputs": [
    {
     "name": "stdout",
     "output_type": "stream",
     "text": [
      "True\n"
     ]
    }
   ],
   "source": [
    "list_lower = [fake.name() for i in range(5)]\n",
    "### BEGIN SOLIUTION\n",
    "list_upper = [name.upper() for name in list_lower]\n",
    "### END SOLUTION\n",
    "q17 =  list_lower[0].upper() == list_upper[0]\n",
    "print(q17)"
   ]
  },
  {
   "cell_type": "markdown",
   "metadata": {},
   "source": [
    "### Write a map transformation to convert strings in a list to uppercase"
   ]
  },
  {
   "cell_type": "code",
   "execution_count": 20,
   "metadata": {},
   "outputs": [
    {
     "name": "stdout",
     "output_type": "stream",
     "text": [
      "True\n"
     ]
    }
   ],
   "source": [
    "list_lower = [fake.name() for i in range(5)]\n",
    "### BEGIN SOLUTION\n",
    "list_upper = list(map(str.upper, list_lower))\n",
    "### END SOLUTION\n",
    "\n",
    "q18 =  list_lower[2].upper() == list_upper[2]\n",
    "print(q18) "
   ]
  },
  {
   "cell_type": "markdown",
   "metadata": {},
   "source": [
    "### Filter a list of integers to return only even numbers"
   ]
  },
  {
   "cell_type": "code",
   "execution_count": 23,
   "metadata": {},
   "outputs": [
    {
     "name": "stdout",
     "output_type": "stream",
     "text": [
      "5\n"
     ]
    }
   ],
   "source": [
    "numbers = list(range(10))\n",
    "# select only the even numbers in the list numbers \n",
    "\n",
    "### BEGIN SOLUTION\n",
    "even_numbers = filter(lambda number: number%2 == 0, numbers)\n",
    "### END SOLUTION\n",
    "\n",
    "q19 = len(list(even_numbers))\n",
    "print(q19)"
   ]
  }
 ],
 "metadata": {
  "kernelspec": {
   "display_name": "Python 3",
   "language": "python",
   "name": "python3"
  },
  "language_info": {
   "codemirror_mode": {
    "name": "ipython",
    "version": 3
   },
   "file_extension": ".py",
   "mimetype": "text/x-python",
   "name": "python",
   "nbconvert_exporter": "python",
   "pygments_lexer": "ipython3",
   "version": "3.10.11"
  },
  "polyglot_notebook": {
   "kernelInfo": {
    "defaultKernelName": "csharp",
    "items": [
     {
      "aliases": [],
      "name": "csharp"
     }
    ]
   }
  }
 },
 "nbformat": 4,
 "nbformat_minor": 4
}
