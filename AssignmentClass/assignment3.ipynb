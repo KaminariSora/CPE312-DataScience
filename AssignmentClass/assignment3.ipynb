{
 "cells": [
  {
   "cell_type": "markdown",
   "metadata": {},
   "source": [
    "# SWU-CPE312: Introduction to Data Science \n",
    "\n",
    "\n",
    "### Assignment#3: Exercise with Numpy and Pandas\n",
    "\n",
    "### Student Name: Nonthacha Huanchitt <br>\n",
    "\n",
    "\n"
   ]
  },
  {
   "cell_type": "code",
   "execution_count": 2,
   "metadata": {},
   "outputs": [],
   "source": [
    "import numpy as np\n",
    "import pandas as pd"
   ]
  },
  {
   "cell_type": "markdown",
   "metadata": {},
   "source": [
    "### q1: Create a numpy array X of shape (5,2) with values drawn randomly from normal distribution (0.5 point)\n"
   ]
  },
  {
   "cell_type": "code",
   "execution_count": 3,
   "metadata": {},
   "outputs": [
    {
     "name": "stdout",
     "output_type": "stream",
     "text": [
      "[[ 0.38981811  0.06533066]\n",
      " [-0.08377898 -1.23186919]\n",
      " [ 0.42260551 -0.23153347]\n",
      " [ 1.00226469 -1.0531776 ]\n",
      " [-1.28747972 -0.17551856]]\n"
     ]
    }
   ],
   "source": [
    "# q1\n",
    "X = np.random.normal(size=(5, 2))\n",
    "print (X)"
   ]
  },
  {
   "cell_type": "markdown",
   "metadata": {},
   "source": [
    "### q2: Create another numpy array Y of shape (5,2) of all values being equal to 2  (0.5 point)"
   ]
  },
  {
   "cell_type": "code",
   "execution_count": 4,
   "metadata": {},
   "outputs": [
    {
     "name": "stdout",
     "output_type": "stream",
     "text": [
      "[[2 2]\n",
      " [2 2]\n",
      " [2 2]\n",
      " [2 2]\n",
      " [2 2]]\n"
     ]
    }
   ],
   "source": [
    "# q2\n",
    "Y = np.full((5, 2), 2)\n",
    "print(Y)"
   ]
  },
  {
   "cell_type": "markdown",
   "metadata": {},
   "source": [
    "### q3: Vertically stack X array  on top of Y array to create an array Z of shape (10,2) (0.5 point)"
   ]
  },
  {
   "cell_type": "code",
   "execution_count": 5,
   "metadata": {},
   "outputs": [
    {
     "name": "stdout",
     "output_type": "stream",
     "text": [
      "(10, 2)\n"
     ]
    }
   ],
   "source": [
    "#q3\n",
    "\n",
    "Z = np.vstack((X,Y))\n",
    "print (Z.shape)"
   ]
  },
  {
   "cell_type": "markdown",
   "metadata": {},
   "source": [
    "### q4: Compute the mean and std deviation of Z for each column. The results should be of arrays of shapes (2,) (0.5 point)"
   ]
  },
  {
   "cell_type": "code",
   "execution_count": 6,
   "metadata": {},
   "outputs": [],
   "source": [
    "#q4\n",
    "mean_arr = np.mean(Z, axis=0)\n",
    "std_arr = np.std(Z, axis=0)"
   ]
  },
  {
   "cell_type": "markdown",
   "metadata": {},
   "source": [
    "### q5: Assign the first column  of  array Z to var first_col  (0.5 point)"
   ]
  },
  {
   "cell_type": "code",
   "execution_count": 7,
   "metadata": {},
   "outputs": [],
   "source": [
    "#q5\n",
    "first_col = Z[:, 0]"
   ]
  },
  {
   "cell_type": "markdown",
   "metadata": {},
   "source": [
    "### q6: Compute the dot product between first_col and Z array. Remember the inner dimension should agree (0.5 point)"
   ]
  },
  {
   "cell_type": "code",
   "execution_count": 8,
   "metadata": {},
   "outputs": [],
   "source": [
    "#q6\n",
    "dot_prod = np.dot(first_col, Z)"
   ]
  },
  {
   "cell_type": "markdown",
   "metadata": {},
   "source": [
    "### q7: Write a code to load data from `assignment3_data.csv` file into pandas dataframe using chunksize = 100. Print the top five rows of dataframe (1.5 points). "
   ]
  },
  {
   "cell_type": "code",
   "execution_count": 10,
   "metadata": {},
   "outputs": [
    {
     "name": "stdout",
     "output_type": "stream",
     "text": [
      "      Unnamed: 0.1  Unnamed: 0  brewery_id             brewery_name  \\\n",
      "0                0           0       10325          Vecchio Birraio   \n",
      "1                1           1       10325          Vecchio Birraio   \n",
      "2                2           2       10325          Vecchio Birraio   \n",
      "3                3           3       10325          Vecchio Birraio   \n",
      "4                4           4        1075  Caldera Brewing Company   \n",
      "...            ...         ...         ...                      ...   \n",
      "1995          1995        1995         577     Isle Of Skye Brewery   \n",
      "1996          1996        1996         577     Isle Of Skye Brewery   \n",
      "1997          1997        1997         577     Isle Of Skye Brewery   \n",
      "1998          1998        1998         577     Isle Of Skye Brewery   \n",
      "1999          1999        1999         577     Isle Of Skye Brewery   \n",
      "\n",
      "      review_time  review_overall  review_aroma  review_appearance  \\\n",
      "0      1234817823             1.5           2.0                2.5   \n",
      "1      1235915097             3.0           2.5                3.0   \n",
      "2      1235916604             3.0           2.5                3.0   \n",
      "3      1234725145             3.0           3.0                3.5   \n",
      "4      1293735206             4.0           4.5                4.0   \n",
      "...           ...             ...           ...                ...   \n",
      "1995   1249684689             3.5           3.5                4.0   \n",
      "1996   1248398283             2.5           3.0                3.0   \n",
      "1997   1238891860             4.0           4.0                4.0   \n",
      "1998   1236400888             4.0           4.0                4.5   \n",
      "1999   1136697824             4.0           4.0                4.5   \n",
      "\n",
      "     review_profilename                      beer_style  review_palate  \\\n",
      "0               stcules                      Hefeweizen            1.5   \n",
      "1               stcules              English Strong Ale            3.0   \n",
      "2               stcules          Foreign / Export Stout            3.0   \n",
      "3               stcules                 German Pilsener            2.5   \n",
      "4        johnmichaelsen  American Double / Imperial IPA            4.0   \n",
      "...                 ...                             ...            ...   \n",
      "1995       bluejacket74          Scotch Ale / Wee Heavy            3.5   \n",
      "1996           ahalloin          Scotch Ale / Wee Heavy            3.0   \n",
      "1997            mduncan          Scotch Ale / Wee Heavy            4.5   \n",
      "1998        Chelsea1905          Scotch Ale / Wee Heavy            4.5   \n",
      "1999           JISurfer          Scotch Ale / Wee Heavy            3.5   \n",
      "\n",
      "      review_taste                  beer_name  beer_abv  beer_beerid  \n",
      "0              1.5               Sausa Weizen       5.0        47986  \n",
      "1              3.0                   Red Moon       6.2        48213  \n",
      "2              3.0     Black Horse Black Beer       6.5        48215  \n",
      "3              3.0                 Sausa Pils       5.0        47969  \n",
      "4              4.5              Cauldron DIPA       7.7        64883  \n",
      "...            ...                        ...       ...          ...  \n",
      "1995           4.0  Wee Beast (Cuillin Beast)       7.0        17010  \n",
      "1996           2.0  Wee Beast (Cuillin Beast)       7.0        17010  \n",
      "1997           4.5  Wee Beast (Cuillin Beast)       7.0        17010  \n",
      "1998           5.0  Wee Beast (Cuillin Beast)       7.0        17010  \n",
      "1999           4.5  Wee Beast (Cuillin Beast)       7.0        17010  \n",
      "\n",
      "[2000 rows x 15 columns]\n"
     ]
    }
   ],
   "source": [
    "#q7\n",
    "CSV_FILE = 'assignment3_data.csv'\n",
    "df = pd.read_csv(CSV_FILE)\n",
    "print(df)"
   ]
  },
  {
   "cell_type": "markdown",
   "metadata": {},
   "source": [
    "### q8: Print out the counts of the number of 'NaN' values in each colum (0.5 point)"
   ]
  },
  {
   "cell_type": "code",
   "execution_count": 11,
   "metadata": {},
   "outputs": [
    {
     "name": "stdout",
     "output_type": "stream",
     "text": [
      "Unnamed: 0.1           0\n",
      "Unnamed: 0             0\n",
      "brewery_id             0\n",
      "brewery_name           0\n",
      "review_time            0\n",
      "review_overall         0\n",
      "review_aroma           0\n",
      "review_appearance      0\n",
      "review_profilename     0\n",
      "beer_style             0\n",
      "review_palate          0\n",
      "review_taste           0\n",
      "beer_name              0\n",
      "beer_abv              67\n",
      "beer_beerid            0\n",
      "dtype: int64\n"
     ]
    }
   ],
   "source": [
    "#q8\n",
    "nan_counts = df.isna().sum()\n",
    "print(nan_counts)"
   ]
  },
  {
   "cell_type": "markdown",
   "metadata": {},
   "source": [
    "### q9: Replace the 'nan' value of 'beer_abv' by the mean value of the column (1.5 points)\n"
   ]
  },
  {
   "cell_type": "code",
   "execution_count": 12,
   "metadata": {},
   "outputs": [
    {
     "name": "stdout",
     "output_type": "stream",
     "text": [
      "      Unnamed: 0.1  Unnamed: 0  brewery_id             brewery_name  \\\n",
      "0                0           0       10325          Vecchio Birraio   \n",
      "1                1           1       10325          Vecchio Birraio   \n",
      "2                2           2       10325          Vecchio Birraio   \n",
      "3                3           3       10325          Vecchio Birraio   \n",
      "4                4           4        1075  Caldera Brewing Company   \n",
      "...            ...         ...         ...                      ...   \n",
      "1995          1995        1995         577     Isle Of Skye Brewery   \n",
      "1996          1996        1996         577     Isle Of Skye Brewery   \n",
      "1997          1997        1997         577     Isle Of Skye Brewery   \n",
      "1998          1998        1998         577     Isle Of Skye Brewery   \n",
      "1999          1999        1999         577     Isle Of Skye Brewery   \n",
      "\n",
      "      review_time  review_overall  review_aroma  review_appearance  \\\n",
      "0      1234817823             1.5           2.0                2.5   \n",
      "1      1235915097             3.0           2.5                3.0   \n",
      "2      1235916604             3.0           2.5                3.0   \n",
      "3      1234725145             3.0           3.0                3.5   \n",
      "4      1293735206             4.0           4.5                4.0   \n",
      "...           ...             ...           ...                ...   \n",
      "1995   1249684689             3.5           3.5                4.0   \n",
      "1996   1248398283             2.5           3.0                3.0   \n",
      "1997   1238891860             4.0           4.0                4.0   \n",
      "1998   1236400888             4.0           4.0                4.5   \n",
      "1999   1136697824             4.0           4.0                4.5   \n",
      "\n",
      "     review_profilename                      beer_style  review_palate  \\\n",
      "0               stcules                      Hefeweizen            1.5   \n",
      "1               stcules              English Strong Ale            3.0   \n",
      "2               stcules          Foreign / Export Stout            3.0   \n",
      "3               stcules                 German Pilsener            2.5   \n",
      "4        johnmichaelsen  American Double / Imperial IPA            4.0   \n",
      "...                 ...                             ...            ...   \n",
      "1995       bluejacket74          Scotch Ale / Wee Heavy            3.5   \n",
      "1996           ahalloin          Scotch Ale / Wee Heavy            3.0   \n",
      "1997            mduncan          Scotch Ale / Wee Heavy            4.5   \n",
      "1998        Chelsea1905          Scotch Ale / Wee Heavy            4.5   \n",
      "1999           JISurfer          Scotch Ale / Wee Heavy            3.5   \n",
      "\n",
      "      review_taste                  beer_name  beer_abv  beer_beerid  \n",
      "0              1.5               Sausa Weizen       5.0        47986  \n",
      "1              3.0                   Red Moon       6.2        48213  \n",
      "2              3.0     Black Horse Black Beer       6.5        48215  \n",
      "3              3.0                 Sausa Pils       5.0        47969  \n",
      "4              4.5              Cauldron DIPA       7.7        64883  \n",
      "...            ...                        ...       ...          ...  \n",
      "1995           4.0  Wee Beast (Cuillin Beast)       7.0        17010  \n",
      "1996           2.0  Wee Beast (Cuillin Beast)       7.0        17010  \n",
      "1997           4.5  Wee Beast (Cuillin Beast)       7.0        17010  \n",
      "1998           5.0  Wee Beast (Cuillin Beast)       7.0        17010  \n",
      "1999           4.5  Wee Beast (Cuillin Beast)       7.0        17010  \n",
      "\n",
      "[2000 rows x 15 columns]\n"
     ]
    }
   ],
   "source": [
    "#q9\n",
    "\n",
    "# First calculate the mean of the column, then use `isna` or `isnull` method to find\n",
    "# the rows with 'Na' values and use `.loc` to replace values with mean\n",
    "mean_beer_abv = df['beer_abv'].mean()\n",
    "\n",
    "nan_rows = df['beer_abv'].isna()\n",
    "\n",
    "df.loc[nan_rows, 'beer_abv'] = mean_beer_abv\n",
    "print(df)\n"
   ]
  },
  {
   "cell_type": "markdown",
   "metadata": {},
   "source": [
    "### q10: Create a Pandas series 'ds_mean' that holds the mean value of the 'review_overall' column by 'brewery_name' column (1 point)"
   ]
  },
  {
   "cell_type": "code",
   "execution_count": 13,
   "metadata": {},
   "outputs": [
    {
     "name": "stdout",
     "output_type": "stream",
     "text": [
      "brewery_name\n",
      "7 Seas Brewery and Taproom       4.000000\n",
      "Amstel Brouwerij B. V.           2.788596\n",
      "Bernard Family Brewery           4.000000\n",
      "Brauhaus Lemke                   4.500000\n",
      "Broad Ripple Brew Pub            4.072368\n",
      "Brouwerij Van Viven              4.000000\n",
      "Calapooia Brewing Company        2.750000\n",
      "Caldera Brewing Company          3.953881\n",
      "City Grille and Brewhaus         3.214286\n",
      "Clockwork Beer Co, The           3.750000\n",
      "Conwy Brewery Ltd                3.388889\n",
      "Destiny Brewing Company          3.884615\n",
      "Harboes Bryggeri A/S             2.672414\n",
      "Harmon Restaurant & Brewery      2.750000\n",
      "Hokusetsu Brewery                3.000000\n",
      "Hoppin' Frog Brewery             4.000000\n",
      "Isle Of Skye Brewery             3.285714\n",
      "Kirner Bier                      4.000000\n",
      "Landhausbräu Koller              3.750000\n",
      "Moon River Brewing Company       3.803828\n",
      "Pacific Coast Brewing Company    3.369048\n",
      "San Francisco Brewing Company    2.750000\n",
      "Vecchio Birraio                  2.625000\n",
      "Yazoo Brewing Company            3.500000\n",
      "Name: review_overall, dtype: float64\n"
     ]
    }
   ],
   "source": [
    "#hint use groupby\n",
    "ds_mean = df.groupby('brewery_name')['review_overall'].mean()\n",
    "print(ds_mean)"
   ]
  },
  {
   "cell_type": "markdown",
   "metadata": {},
   "source": [
    "### q11: Sort and print the ds_mean series values in descending order (0.5)"
   ]
  },
  {
   "cell_type": "code",
   "execution_count": 14,
   "metadata": {},
   "outputs": [
    {
     "name": "stdout",
     "output_type": "stream",
     "text": [
      "brewery_name\n",
      "Brauhaus Lemke                   4.500000\n",
      "Broad Ripple Brew Pub            4.072368\n",
      "Bernard Family Brewery           4.000000\n",
      "7 Seas Brewery and Taproom       4.000000\n",
      "Brouwerij Van Viven              4.000000\n",
      "Hoppin' Frog Brewery             4.000000\n",
      "Kirner Bier                      4.000000\n",
      "Caldera Brewing Company          3.953881\n",
      "Destiny Brewing Company          3.884615\n",
      "Moon River Brewing Company       3.803828\n",
      "Clockwork Beer Co, The           3.750000\n",
      "Landhausbräu Koller              3.750000\n",
      "Yazoo Brewing Company            3.500000\n",
      "Conwy Brewery Ltd                3.388889\n",
      "Pacific Coast Brewing Company    3.369048\n",
      "Isle Of Skye Brewery             3.285714\n",
      "City Grille and Brewhaus         3.214286\n",
      "Hokusetsu Brewery                3.000000\n",
      "Amstel Brouwerij B. V.           2.788596\n",
      "Calapooia Brewing Company        2.750000\n",
      "San Francisco Brewing Company    2.750000\n",
      "Harmon Restaurant & Brewery      2.750000\n",
      "Harboes Bryggeri A/S             2.672414\n",
      "Vecchio Birraio                  2.625000\n",
      "Name: review_overall, dtype: float64\n"
     ]
    }
   ],
   "source": [
    "#hint use sort_values method\n",
    "# q11 \n",
    "sorted_ds_mean = ds_mean.sort_values(ascending=False)\n",
    "print(sorted_ds_mean)"
   ]
  },
  {
   "cell_type": "markdown",
   "metadata": {},
   "source": [
    "### q12: convert the `ds_mean` Series into a dataframe and rename the `review_overall` column to `mean_review_overall` in the dataframe ( 1 point)"
   ]
  },
  {
   "cell_type": "code",
   "execution_count": null,
   "metadata": {},
   "outputs": [],
   "source": [
    "ds_mean = df.groupby('brewery_name')['review_overall'].mean()\n",
    "\n",
    "df_mean = ds_mean.reset_index()\n",
    "\n",
    "df_mean.rename(columns={'review_overall': 'mean_review_overall'}, inplace=True)\n",
    "print(df_mean)"
   ]
  },
  {
   "cell_type": "markdown",
   "metadata": {},
   "source": [
    "### q11: Join ds_mean series back to the original dataframe  (`df`) on `brewery_name` column (1 point)"
   ]
  },
  {
   "cell_type": "code",
   "execution_count": null,
   "metadata": {},
   "outputs": [],
   "source": [
    "#q13\n",
    "df_merge = "
   ]
  }
 ],
 "metadata": {
  "kernelspec": {
   "display_name": "Python 3 (ipykernel)",
   "language": "python",
   "name": "python3"
  },
  "language_info": {
   "codemirror_mode": {
    "name": "ipython",
    "version": 3
   },
   "file_extension": ".py",
   "mimetype": "text/x-python",
   "name": "python",
   "nbconvert_exporter": "python",
   "pygments_lexer": "ipython3",
   "version": "3.10.11"
  }
 },
 "nbformat": 4,
 "nbformat_minor": 4
}
