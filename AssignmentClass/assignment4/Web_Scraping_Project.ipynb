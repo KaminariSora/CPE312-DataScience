{
 "cells": [
  {
   "cell_type": "markdown",
   "id": "b1553d57",
   "metadata": {},
   "source": [
    "## Web Scraping Project"
   ]
  },
  {
   "cell_type": "markdown",
   "id": "9002cff8",
   "metadata": {},
   "source": [
    "### เขียนบทนำเกี่ยวกับโปรเจ็กต์ อธิบายวัตถุประสงค์และความสำคัญของการวิเคราะห์ข้อมูลจากเว็บ"
   ]
  },
  {
   "cell_type": "markdown",
   "id": "3e757b42",
   "metadata": {},
   "source": [
    "ขั้นตอนที่ 1 การดึงข้อมูลจากเว็บ (Web Scraping) "
   ]
  },
  {
   "cell_type": "markdown",
   "id": "bc71d729",
   "metadata": {},
   "source": [
    "ขั้นตอนที่ 2 การทำความสะอาดและเตรียมข้อมูล (Data Cleaning and Preparation)"
   ]
  },
  {
   "cell_type": "markdown",
   "id": "4f841d54",
   "metadata": {},
   "source": [
    "ขั้นตอนที่ 3 การวิเคราะห์ข้อมูล (Data Analysis)"
   ]
  },
  {
   "cell_type": "code",
   "execution_count": 13,
   "id": "f406ea43",
   "metadata": {},
   "outputs": [
    {
     "data": {
      "text/plain": [
       "Rating\n",
       "1    34.329774\n",
       "2    34.804175\n",
       "3    34.747323\n",
       "4    36.011136\n",
       "5    35.442618\n",
       "Name: Price, dtype: float64"
      ]
     },
     "execution_count": 13,
     "metadata": {},
     "output_type": "execute_result"
    }
   ],
   "source": [
    "import pandas as pd\n",
    "import matplotlib.pyplot as plt\n",
    "import seaborn as sns\n",
    "\n",
    "# โหลดข้อมูลที่ cleanแล้ว\n",
    "df = pd.read_csv('cleaned_data.csv')\n",
    "\n",
    "# คำนวนหาค่า mean\n",
    "mean_price = df['Price'].mean()\n",
    "\n",
    "# จัดกลุ่มและนับจำนวนจากนั้นเรียงจากมากไปน้อย\n",
    "grouped_genre = df.groupby('Genre').size()\n",
    "ranking_genre = grouped_genre.sort_values(ascending=False)\n",
    "#มุงลองทำ box plot ระหว่างgenre and price ดูกุว่ามีไรแปลกๆ\n",
    "\n",
    "# แนวโน้มของราคาเฉลี่ยตามประเภท\n",
    "genre_mean_price = df.groupby('Genre')['Price'].mean().sort_values(ascending=False)\n",
    "\n",
    "# แนวโน้มของ Stock Status ในแต่ละประเภทหนังสือ (Genre)\n",
    "stock_trend = df.groupby('Genre')['Stock Status'].mean().sort_values(ascending=False)\n",
    "\n",
    "# จัดกลุ่มของRatingและทำการหาค่าเฉลี่ยของStock Status\n",
    "stock_status_by_rating = df.groupby('Rating')['Stock Status'].mean()\n",
    "\n",
    "test = df.groupby('Rating')['Price'].mean()\n",
    "test\n"
   ]
  },
  {
   "cell_type": "code",
   "execution_count": null,
   "id": "7d2e6c6f-2242-4fce-9845-41a0684e4d1e",
   "metadata": {},
   "outputs": [],
   "source": []
  }
 ],
 "metadata": {
  "kernelspec": {
   "display_name": "Python 3 (ipykernel)",
   "language": "python",
   "name": "python3"
  },
  "language_info": {
   "codemirror_mode": {
    "name": "ipython",
    "version": 3
   },
   "file_extension": ".py",
   "mimetype": "text/x-python",
   "name": "python",
   "nbconvert_exporter": "python",
   "pygments_lexer": "ipython3",
   "version": "3.12.4"
  }
 },
 "nbformat": 4,
 "nbformat_minor": 5
}
