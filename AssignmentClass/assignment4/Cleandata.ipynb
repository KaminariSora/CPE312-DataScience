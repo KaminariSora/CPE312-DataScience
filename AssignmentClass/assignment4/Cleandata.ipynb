{
 "cells": [
  {
   "cell_type": "code",
   "execution_count": 49,
   "metadata": {},
   "outputs": [
    {
     "name": "stdout",
     "output_type": "stream",
     "text": [
      "<class 'pandas.core.frame.DataFrame'>\n",
      "RangeIndex: 980 entries, 0 to 979\n",
      "Data columns (total 6 columns):\n",
      " #   Column             Non-Null Count  Dtype \n",
      "---  ------             --------------  ----- \n",
      " 0   Genre              980 non-null    object\n",
      " 1   Book Title         980 non-null    object\n",
      " 2   Price              980 non-null    object\n",
      " 3   Rating             980 non-null    int64 \n",
      " 4   Stock Status       980 non-null    object\n",
      " 5   Number of Reviews  980 non-null    int64 \n",
      "dtypes: int64(2), object(4)\n",
      "memory usage: 46.1+ KB\n",
      "None\n",
      "0\n",
      "1\n",
      "Book Title\n",
      "The Star-Touched Queen    2\n",
      "Name: count, dtype: int64\n"
     ]
    }
   ],
   "source": [
    "import pandas as pd\n",
    "\n",
    "df = pd.read_csv('Books_data.csv')\n",
    "\n",
    "print(df.info())   # ตรวจสอบชนิดของข้อมูลในแต่ละคอลัมน์และจำนวนข้อมูลที่ไม่เป็น null\n",
    "print(df.duplicated().sum())    # ตรวจสอบข้อมูลที่ซ้ำกัน\n",
    "df['Price'] = df['Price'].str.replace('[Ã‚Â£]', '', regex=True) #ลบสกุลเงินออก\n",
    "df['Stock Status'] = df['Stock Status'].str.replace(r'\\D+', '', regex=True) #ลบstr\n",
    "df['Price'] = pd.to_numeric(df['Price'], errors='coerce')\n",
    "df = df[(df['Rating'] >= 1) & (df['Rating'] <= 5)]  # ตรวจสอบค่า Rating ที่ไม่อยู่ในช่วงที่เหมาะสม (1-5)\n",
    "df = df[df['Price'] > 0]    # ตรวจสอบราคาหนังสือที่อาจไม่สมเหตุสมผล\n",
    "df = df.drop(columns = \"Number of Reviews\")\n",
    "\n",
    "duplicate_count = df.duplicated(subset=['Book Title']).sum()\n",
    "print(duplicate_count)\n",
    "\n",
    "# ตรวจสอบแถวที่มีชื่อซ้ำ\n",
    "duplicates = df[df.duplicated(subset=['Book Title'], keep=False)]\n",
    "# หาและนับชื่อที่ซ้ำ\n",
    "duplicate_titles = duplicates['Book Title'].value_counts()\n",
    "print(duplicate_titles)\n",
    "\n",
    "\n",
    "df.to_csv('cleaned_data.csv', index=False)\n"
   ]
  }
 ],
 "metadata": {
  "kernelspec": {
   "display_name": "Python 3",
   "language": "python",
   "name": "python3"
  },
  "language_info": {
   "codemirror_mode": {
    "name": "ipython",
    "version": 3
   },
   "file_extension": ".py",
   "mimetype": "text/x-python",
   "name": "python",
   "nbconvert_exporter": "python",
   "pygments_lexer": "ipython3",
   "version": "3.12.0"
  }
 },
 "nbformat": 4,
 "nbformat_minor": 2
}
